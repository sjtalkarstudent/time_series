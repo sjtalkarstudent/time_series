{
  "cells": [
    {
      "cell_type": "markdown",
      "id": "6a06a10a-ee82-40ce-8821-3da680af4b95",
      "metadata": {
        "id": "6a06a10a-ee82-40ce-8821-3da680af4b95"
      },
      "source": [
        "<a href=\"https://colab.research.google.com/github/PacktPublishing/Machine-Learning-for-Time-Series-with-Python/blob/master/chapter3/Preprocessing.ipynb\" target=\"_parent\\\"><img src=\"https://colab.research.google.com/assets/colab-badge.svg\" alt=\"Open In Colab\"/></a>"
      ]
    },
    {
      "cell_type": "code",
      "execution_count": null,
      "id": "614a3348-214c-4472-969d-e7db10664075",
      "metadata": {
        "id": "614a3348-214c-4472-969d-e7db10664075"
      },
      "outputs": [],
      "source": [
        "pip install -U tsfresh workalendar astral \"featuretools[tsfresh]\" sktime"
      ]
    },
    {
      "cell_type": "code",
      "execution_count": null,
      "id": "9a82dfb1-f90b-4f38-91fb-34756dece1e5",
      "metadata": {
        "id": "9a82dfb1-f90b-4f38-91fb-34756dece1e5"
      },
      "outputs": [],
      "source": [
        "import datetime\n",
        "import pandas as pd\n",
        "import matplotlib.pyplot as plt\n",
        "import seaborn as sns"
      ]
    },
    {
      "cell_type": "markdown",
      "id": "96db671d-bfdb-48f2-b572-f1d35e2b14a1",
      "metadata": {
        "id": "96db671d-bfdb-48f2-b572-f1d35e2b14a1"
      },
      "source": [
        "# Transformations"
      ]
    },
    {
      "cell_type": "code",
      "execution_count": null,
      "id": "0bd9698d-3905-42a6-92b4-1d3d6c80f79f",
      "metadata": {
        "id": "0bd9698d-3905-42a6-92b4-1d3d6c80f79f"
      },
      "outputs": [],
      "source": [
        "import numpy as np\n",
        "\n",
        "np.random.seed(0)\n",
        "pts = 10000\n",
        "vals = np.random.lognormal(0, 1.0, pts)"
      ]
    },
    {
      "cell_type": "code",
      "execution_count": null,
      "id": "55097e4a-c0d8-4cd9-a7e5-5e59738c0475",
      "metadata": {
        "id": "55097e4a-c0d8-4cd9-a7e5-5e59738c0475"
      },
      "outputs": [],
      "source": [
        "plt.hist(vals, bins=20, density=True)\n",
        "plt.yscale(\"log\")\n",
        "plt.ylabel(\"frequency\")\n",
        "plt.xlabel(\"value range\");"
      ]
    },
    {
      "cell_type": "code",
      "execution_count": null,
      "id": "1a0306b4-c03d-46e4-9ed1-1c8e30c3f7bb",
      "metadata": {
        "id": "1a0306b4-c03d-46e4-9ed1-1c8e30c3f7bb"
      },
      "outputs": [],
      "source": [
        "from sklearn.preprocessing import minmax_scale\n",
        "from sklearn.preprocessing import StandardScaler\n",
        "from scipy.stats import normaltest\n",
        "\n",
        "vals_mm = minmax_scale(vals)\n",
        "scaler = StandardScaler()\n",
        "vals_ss = scaler.fit_transform(vals.reshape(-1, 1))\n",
        "_, p = normaltest(vals_ss.squeeze())\n",
        "print(f\"significance: {p:.2f}\")"
      ]
    },
    {
      "cell_type": "code",
      "execution_count": null,
      "id": "f32df59b-5443-48b2-b2ef-07a4f79bb869",
      "metadata": {
        "id": "f32df59b-5443-48b2-b2ef-07a4f79bb869"
      },
      "outputs": [],
      "source": [
        "_, p = normaltest(vals_mm.squeeze())\n",
        "print(f\"significance: {p:.2f}\")"
      ]
    },
    {
      "cell_type": "code",
      "execution_count": null,
      "id": "9fc25e7e-8bca-44ad-8d14-100cd62ee1ec",
      "metadata": {
        "id": "9fc25e7e-8bca-44ad-8d14-100cd62ee1ec"
      },
      "outputs": [],
      "source": [
        "plt.scatter(vals, vals_ss, alpha=0.3)\n",
        "plt.ylabel(\"standard scaled\")\n",
        "plt.xlabel(\"original\");"
      ]
    },
    {
      "cell_type": "code",
      "execution_count": null,
      "id": "e88633cd-5542-4366-84bd-ef59e46f253a",
      "metadata": {
        "id": "e88633cd-5542-4366-84bd-ef59e46f253a"
      },
      "outputs": [],
      "source": [
        "from statsmodels.stats.diagnostic import kstest_normal\n",
        "\n",
        "log_transformed = np.log(vals)\n",
        "_, p = kstest_normal(log_transformed)  # stats.normaltest\n",
        "print(f\"significance: {p:.2f}\")"
      ]
    },
    {
      "cell_type": "code",
      "execution_count": null,
      "id": "8ed96d42-2023-463d-82cf-250b5bb69733",
      "metadata": {
        "id": "8ed96d42-2023-463d-82cf-250b5bb69733"
      },
      "outputs": [],
      "source": [
        "np.std(log_transformed)"
      ]
    },
    {
      "cell_type": "code",
      "execution_count": null,
      "id": "0f9faf67-1496-4383-a93e-abfb67e4dc9c",
      "metadata": {
        "id": "0f9faf67-1496-4383-a93e-abfb67e4dc9c"
      },
      "outputs": [],
      "source": [
        "np.mean(log_transformed)"
      ]
    },
    {
      "cell_type": "code",
      "execution_count": null,
      "id": "ae3a9a4b-f856-468e-8f7a-07178544f52d",
      "metadata": {
        "id": "ae3a9a4b-f856-468e-8f7a-07178544f52d"
      },
      "outputs": [],
      "source": [
        "plt.hist(log_transformed, bins=20, density=True)\n",
        "#plt.yscale(\"log\")\n",
        "plt.ylabel(\"frequency\")\n",
        "plt.xlabel(\"value range\");"
      ]
    },
    {
      "cell_type": "code",
      "execution_count": null,
      "id": "89f9f296-456d-4789-88c0-2e2eb35bc8a8",
      "metadata": {
        "id": "89f9f296-456d-4789-88c0-2e2eb35bc8a8"
      },
      "outputs": [],
      "source": [
        "from scipy.stats import boxcox\n",
        "vals_bc = boxcox(vals, 0.0)\n",
        "_, p = normaltest(vals_bc)\n",
        "print(f\"significance: {p:.2f}\")"
      ]
    },
    {
      "cell_type": "code",
      "execution_count": null,
      "id": "40697ad8-fbc7-4c62-ab4a-64f813c13ec6",
      "metadata": {
        "id": "40697ad8-fbc7-4c62-ab4a-64f813c13ec6"
      },
      "outputs": [],
      "source": [
        "plt.hist(vals_bc, bins=20, density=True)\n",
        "plt.ylabel(\"frequency\")\n",
        "plt.xlabel(\"value range\");"
      ]
    },
    {
      "cell_type": "markdown",
      "id": "da2aa62a-fe40-49e2-b2d9-ebcb1a91cda8",
      "metadata": {
        "id": "da2aa62a-fe40-49e2-b2d9-ebcb1a91cda8"
      },
      "source": [
        "# Imputation"
      ]
    },
    {
      "cell_type": "code",
      "execution_count": null,
      "id": "40bddaee-38d3-4d40-9773-e6a4721e4b62",
      "metadata": {
        "id": "40bddaee-38d3-4d40-9773-e6a4721e4b62"
      },
      "outputs": [],
      "source": [
        "import numpy as np\n",
        "from sklearn.impute import SimpleImputer\n",
        "imp_mean = SimpleImputer(missing_values=np.nan, strategy='mean')\n",
        "imp_mean.fit([[7, 2, 3], [4, np.nan, 6], [10, 5, 9]])\n",
        "SimpleImputer()\n",
        "df = [[np.nan, 2, 3], [4, np.nan, 6], [10, np.nan, 9]]\n",
        "print(imp_mean.transform(df))\n"
      ]
    },
    {
      "cell_type": "markdown",
      "id": "503b0b9a-71a9-475c-9906-e59fb9853932",
      "metadata": {
        "id": "503b0b9a-71a9-475c-9906-e59fb9853932"
      },
      "source": [
        "# Derived Date Features"
      ]
    },
    {
      "cell_type": "markdown",
      "id": "5aa0e489-638d-46e7-8850-518c616e22e5",
      "metadata": {
        "id": "5aa0e489-638d-46e7-8850-518c616e22e5"
      },
      "source": [
        "## Holidays"
      ]
    },
    {
      "cell_type": "code",
      "execution_count": null,
      "id": "9efee10c-2d3d-4265-886a-50e87e380a97",
      "metadata": {
        "id": "9efee10c-2d3d-4265-886a-50e87e380a97"
      },
      "outputs": [],
      "source": [
        "from workalendar.europe.united_kingdom import UnitedKingdom\n",
        "UnitedKingdom().holidays()"
      ]
    },
    {
      "cell_type": "code",
      "execution_count": null,
      "id": "1539b652-a1f8-41a6-8410-cccad3d5edb6",
      "metadata": {
        "id": "1539b652-a1f8-41a6-8410-cccad3d5edb6"
      },
      "outputs": [],
      "source": [
        "from typing import List\n",
        "from dateutil.relativedelta import relativedelta, TH\n",
        "import datetime\n",
        "from workalendar.usa import California\n",
        "\n",
        "def create_custom_holidays(year) -> List:\n",
        "      custom_holidays = California().holidays()\n",
        "      custom_holidays.append((\n",
        "        (datetime.datetime(year, 11, 1) + relativedelta(weekday=TH(+4)) + datetime.timedelta(days=1)).date(),\n",
        "        \"Black Friday\"\n",
        "      ))\n",
        "      return {k: v for (k, v) in custom_holidays}\n",
        "\n",
        "custom_holidays = create_custom_holidays(2021)"
      ]
    },
    {
      "cell_type": "code",
      "execution_count": null,
      "id": "bec50434-e7b4-409b-8f37-9b400ce0a2bf",
      "metadata": {
        "id": "bec50434-e7b4-409b-8f37-9b400ce0a2bf"
      },
      "outputs": [],
      "source": [
        "custom_holidays"
      ]
    },
    {
      "cell_type": "code",
      "execution_count": null,
      "id": "3e8c9a76-0ec7-40c8-8eda-e7e480281501",
      "metadata": {
        "id": "3e8c9a76-0ec7-40c8-8eda-e7e480281501"
      },
      "outputs": [],
      "source": [
        "def is_holiday(current_date: datetime.date):\n",
        "    \"\"\"Determine if we have a holiday.\"\"\"\n",
        "    return custom_holidays.get(current_date, False)\n",
        "\n",
        "today = datetime.date(2021, 4, 11)\n",
        "is_holiday(today)"
      ]
    },
    {
      "cell_type": "markdown",
      "id": "ddb63805-b782-4944-a88b-4996783177f7",
      "metadata": {
        "id": "ddb63805-b782-4944-a88b-4996783177f7"
      },
      "source": [
        "## Date Annotations"
      ]
    },
    {
      "cell_type": "code",
      "execution_count": null,
      "id": "eab731b5-fa14-4c8a-bd39-0a805c36aa80",
      "metadata": {
        "id": "eab731b5-fa14-4c8a-bd39-0a805c36aa80"
      },
      "outputs": [],
      "source": [
        "import calendar\n",
        "\n",
        "calendar.monthrange(2021, 1)"
      ]
    },
    {
      "cell_type": "code",
      "execution_count": null,
      "id": "f9d4a8b3-fea7-4e75-86e4-fff5cc3ffa9e",
      "metadata": {
        "id": "f9d4a8b3-fea7-4e75-86e4-fff5cc3ffa9e"
      },
      "outputs": [],
      "source": [
        "from datetime import date\n",
        "def year_anchor(current_date: datetime.date):\n",
        "      return (\n",
        "        (current_date - date(current_date.year, 1, 1)).days,\n",
        "        (date(current_date.year, 12, 31) - current_date).days,\n",
        "      )\n",
        "\n",
        "year_anchor(today)\n"
      ]
    },
    {
      "cell_type": "code",
      "execution_count": null,
      "id": "d6a4e6d4-3a68-48a5-b564-29e9f7b0b72d",
      "metadata": {
        "id": "d6a4e6d4-3a68-48a5-b564-29e9f7b0b72d"
      },
      "outputs": [],
      "source": [
        "def month_anchor(current_date: datetime.date):\n",
        "      last_day = calendar.monthrange(current_date.year, current_date.month)[0]\n",
        "    \n",
        "      return (\n",
        "        (current_date - datetime.date(current_date.year, current_date.month, 1)).days,\n",
        "        (current_date - datetime.date(current_date.year, current_date.month, last_day)).days,\n",
        "      )\n",
        "\n",
        "month_anchor(today)\n"
      ]
    },
    {
      "cell_type": "markdown",
      "id": "5453766c-e8d5-4fd8-88a8-4b87602c506f",
      "metadata": {
        "id": "5453766c-e8d5-4fd8-88a8-4b87602c506f"
      },
      "source": [
        "## Paydays"
      ]
    },
    {
      "cell_type": "code",
      "execution_count": null,
      "id": "5fa16210-e016-4cb6-85b9-84f964255f81",
      "metadata": {
        "id": "5fa16210-e016-4cb6-85b9-84f964255f81"
      },
      "outputs": [],
      "source": [
        "def get_last_friday(current_date: datetime.date, weekday=calendar.FRIDAY):\n",
        "      return max(week[weekday]\n",
        "        for week in calendar.monthcalendar(\n",
        "            current_date.year, current_date.month\n",
        "        ))\n",
        "\n",
        "get_last_friday(today)\n"
      ]
    },
    {
      "cell_type": "markdown",
      "id": "2a2cca85-1e9f-4e3c-ad34-a6b1122e217a",
      "metadata": {
        "id": "2a2cca85-1e9f-4e3c-ad34-a6b1122e217a"
      },
      "source": [
        "## Seasons"
      ]
    },
    {
      "cell_type": "code",
      "execution_count": null,
      "id": "6abd71ed-2478-4c8a-a578-1b961e8a1de4",
      "metadata": {
        "id": "6abd71ed-2478-4c8a-a578-1b961e8a1de4"
      },
      "outputs": [],
      "source": [
        "YEAR = 2021\n",
        "seasons = [\n",
        "    ('winter', (date(YEAR,  1,  1),  date(YEAR,  3, 20))),\n",
        "    ('spring', (date(YEAR,  3, 21),  date(YEAR,  6, 20))),\n",
        "    ('summer', (date(YEAR,  6, 21),  date(YEAR,  9, 22))),\n",
        "    ('autumn', (date(YEAR,  9, 23),  date(YEAR, 12, 20))),\n",
        "    ('winter', (date(YEAR, 12, 21),  date(YEAR, 12, 31)))\n",
        "]\n",
        "\n",
        "def is_in_interval(current_date: datetime.date, seasons):\n",
        "      return next(season for season, (start, end) in seasons\n",
        "                if start <= current_date.replace(year=YEAR) <= end)\n",
        "    \n",
        "is_in_interval(today, seasons)\n"
      ]
    },
    {
      "cell_type": "markdown",
      "id": "bff1e4f1-03a6-4710-8fcc-93ca10e529c1",
      "metadata": {
        "id": "bff1e4f1-03a6-4710-8fcc-93ca10e529c1"
      },
      "source": [
        "## Sun and Moon"
      ]
    },
    {
      "cell_type": "code",
      "execution_count": null,
      "id": "2e79e8c5-a2c9-4ce0-bc55-b15c8564a877",
      "metadata": {
        "id": "2e79e8c5-a2c9-4ce0-bc55-b15c8564a877"
      },
      "outputs": [],
      "source": [
        "!pip install astral"
      ]
    },
    {
      "cell_type": "code",
      "execution_count": null,
      "id": "92c55bb2-caf3-4a70-b51a-84bfc073b2ce",
      "metadata": {
        "id": "92c55bb2-caf3-4a70-b51a-84bfc073b2ce"
      },
      "outputs": [],
      "source": [
        "from astral.sun import sun\n",
        "from astral import LocationInfo\n",
        "CITY = LocationInfo(\"London\", \"England\", \"Europe/London\", 51.5, -0.116)\n",
        "def get_sunrise_dusk(current_date: datetime.date, city_name='London'):\n",
        "      s = sun(CITY.observer, date=current_date)\n",
        "      sunrise = s['sunrise']\n",
        "      dusk = s['dusk']\n",
        "      return (sunrise - dusk).seconds / 3600\n",
        "\n",
        "get_sunrise_dusk(today)\n"
      ]
    },
    {
      "cell_type": "markdown",
      "id": "98f041ac-5c80-408e-909a-3364975f6be0",
      "metadata": {
        "id": "98f041ac-5c80-408e-909a-3364975f6be0"
      },
      "source": [
        "## Business Days"
      ]
    },
    {
      "cell_type": "code",
      "execution_count": null,
      "id": "aac6eeef-2d1b-4bf2-a2cb-75a9c4648a93",
      "metadata": {
        "id": "aac6eeef-2d1b-4bf2-a2cb-75a9c4648a93"
      },
      "outputs": [],
      "source": [
        "def get_business_days(current_date: datetime.date):\n",
        "      last_day = calendar.monthrange(current_date.year, current_date.month)[1]\n",
        "      rng = pd.date_range(current_date.replace(day=1), periods=last_day, freq='D')\n",
        "      business_days = pd.bdate_range(rng[0], rng[-1])\n",
        "      return len(business_days), last_day - len(business_days)\n",
        "\n",
        "get_business_days(date.today())\n"
      ]
    },
    {
      "cell_type": "markdown",
      "id": "91f21e9b-c326-472b-a59a-85a908502fe4",
      "metadata": {
        "id": "91f21e9b-c326-472b-a59a-85a908502fe4"
      },
      "source": [
        "# Automated Feature Extraction"
      ]
    },
    {
      "cell_type": "code",
      "execution_count": null,
      "id": "7df98e51-5f84-49fd-b13c-a7a488bcc4ea",
      "metadata": {
        "id": "7df98e51-5f84-49fd-b13c-a7a488bcc4ea"
      },
      "outputs": [],
      "source": [
        "import featuretools as ft\n",
        "from featuretools.primitives import Minute, Hour, Day, Month, Year, Weekday\n",
        "\n",
        "data = pd.DataFrame(\n",
        "    {'Time': ['2014-01-01 01:41:50',\n",
        "              '2014-01-01 02:06:50',\n",
        "              '2014-01-01 02:31:50',\n",
        "              '2014-01-01 02:56:50',\n",
        "              '2014-01-01 03:21:50'],\n",
        "     'Target': [0, 0, 0, 0, 1]}\n",
        ")        \n",
        "data['index'] = data.index\n",
        "es = ft.EntitySet('My EntitySet')\n",
        "es.entity_from_dataframe(\n",
        "    entity_id='main_data_table',\n",
        "    index='index',\n",
        "    dataframe=data,\n",
        "    time_index='Time'\n",
        ")\n",
        "fm, features = ft.dfs(\n",
        "    entityset=es, \n",
        "    target_entity='main_data_table', \n",
        "    trans_primitives=[Minute, Hour, Day, Month, Year, Weekday]\n",
        ")\n"
      ]
    },
    {
      "cell_type": "code",
      "execution_count": null,
      "id": "39b85175-58d9-44bc-8374-09af58f245d3",
      "metadata": {
        "id": "39b85175-58d9-44bc-8374-09af58f245d3"
      },
      "outputs": [],
      "source": [
        "fm"
      ]
    },
    {
      "cell_type": "code",
      "execution_count": null,
      "id": "11f5581e-0ce2-4a90-9f0c-5aeefbaa2096",
      "metadata": {
        "id": "11f5581e-0ce2-4a90-9f0c-5aeefbaa2096"
      },
      "outputs": [],
      "source": [
        "from tsfresh.feature_extraction import extract_features\n",
        "from tsfresh.feature_extraction import ComprehensiveFCParameters\n",
        "\n",
        "settings = ComprehensiveFCParameters()\n",
        "extract_features(data, column_id='Time', default_fc_parameters=settings)\n"
      ]
    },
    {
      "cell_type": "markdown",
      "id": "d78b955f-04a1-4751-8142-e3b7c8002278",
      "metadata": {
        "id": "d78b955f-04a1-4751-8142-e3b7c8002278"
      },
      "source": [
        "## ROCKET"
      ]
    },
    {
      "cell_type": "code",
      "execution_count": null,
      "id": "cc173b6d-be20-424a-b8b9-3ae617cf5f39",
      "metadata": {
        "id": "cc173b6d-be20-424a-b8b9-3ae617cf5f39"
      },
      "outputs": [],
      "source": [
        "from sktime.datasets import load_arrow_head\n",
        "from sktime.utils.data_processing import from_nested_to_2d_array\n",
        "# please note that this import changes in version 0.8:\n",
        "# from sktime.datatypes._panel._convert import from_nested_to_2d_array\n",
        "\n",
        "X_train, y_train = load_arrow_head(split=\"train\", return_X_y=True)\n",
        "from_nested_to_2d_array(X_train).head()"
      ]
    },
    {
      "cell_type": "code",
      "execution_count": null,
      "id": "b865bd92-8ba9-46f7-a15d-4745ad8bf5ea",
      "metadata": {
        "id": "b865bd92-8ba9-46f7-a15d-4745ad8bf5ea"
      },
      "outputs": [],
      "source": [
        "from sktime.transformations.panel.rocket import Rocket\n",
        "rocket = Rocket(num_kernels=1000)\n",
        "rocket.fit(X_train)\n",
        "X_train_transform = rocket.transform(X_train)\n"
      ]
    },
    {
      "cell_type": "markdown",
      "id": "474f4e40-d2b1-43da-98d9-767d922c6f91",
      "metadata": {
        "id": "474f4e40-d2b1-43da-98d9-767d922c6f91"
      },
      "source": [
        "## Shapelets"
      ]
    },
    {
      "cell_type": "code",
      "execution_count": null,
      "id": "0d99e98f-17ec-4b01-b8e0-01b062e1dfbb",
      "metadata": {
        "id": "0d99e98f-17ec-4b01-b8e0-01b062e1dfbb"
      },
      "outputs": [],
      "source": [
        "from sktime.transformations.panel.shapelets import ContractedShapeletTransform\n",
        "shapelets_transform = ContractedShapeletTransform(\n",
        "    time_contract_in_mins=1,\n",
        "    num_candidates_to_sample_per_case=10,\n",
        "    verbose=0,\n",
        ")\n",
        "shapelets_transform.fit(X_train, y_train)\n"
      ]
    },
    {
      "cell_type": "code",
      "execution_count": null,
      "id": "a5468a48-7669-49e9-87e3-827f25cc8b2b",
      "metadata": {
        "id": "a5468a48-7669-49e9-87e3-827f25cc8b2b"
      },
      "outputs": [],
      "source": [
        "X_train_transform = shapelets_transform.transform(X_train)"
      ]
    },
    {
      "cell_type": "code",
      "execution_count": null,
      "id": "6812d1d2-7de2-48ee-91c5-70741ff8a320",
      "metadata": {
        "id": "6812d1d2-7de2-48ee-91c5-70741ff8a320"
      },
      "outputs": [],
      "source": [
        "X_train_transform"
      ]
    },
    {
      "cell_type": "code",
      "execution_count": null,
      "id": "6d3410b6-a2ab-40fb-a942-b1fcfd423512",
      "metadata": {
        "id": "6d3410b6-a2ab-40fb-a942-b1fcfd423512"
      },
      "outputs": [],
      "source": []
    }
  ],
  "metadata": {
    "kernelspec": {
      "display_name": "Python 3",
      "language": "python",
      "name": "python3"
    },
    "language_info": {
      "codemirror_mode": {
        "name": "ipython",
        "version": 3
      },
      "file_extension": ".py",
      "mimetype": "text/x-python",
      "name": "python",
      "nbconvert_exporter": "python",
      "pygments_lexer": "ipython3",
      "version": "3.8.8"
    },
    "colab": {
      "provenance": []
    }
  },
  "nbformat": 4,
  "nbformat_minor": 5
}